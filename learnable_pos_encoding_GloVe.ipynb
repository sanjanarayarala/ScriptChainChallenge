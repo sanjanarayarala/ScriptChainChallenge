{
 "cells": [
  {
   "cell_type": "code",
   "execution_count": 1,
   "metadata": {},
   "outputs": [],
   "source": [
    "import torch\n",
    "import torch.nn as nn\n",
    "import gensim.downloader as api "
   ]
  },
  {
   "cell_type": "code",
   "execution_count": null,
   "metadata": {},
   "outputs": [],
   "source": [
    "glove_model = api.load(\"glove-wiki-gigaword-50\")  # 50D GloVe vectors"
   ]
  },
  {
   "cell_type": "code",
   "execution_count": 3,
   "metadata": {},
   "outputs": [
    {
     "name": "stderr",
     "output_type": "stream",
     "text": [
      "C:\\Users\\Sanjana Rayarala\\AppData\\Local\\Temp\\ipykernel_23984\\1783482610.py:3: UserWarning: Creating a tensor from a list of numpy.ndarrays is extremely slow. Please consider converting the list to a single numpy.ndarray with numpy.array() before converting to a tensor. (Triggered internally at ..\\torch\\csrc\\utils\\tensor_new.cpp:248.)\n",
      "  word_embeddings = torch.tensor([glove_model[word] for word in word_list], dtype=torch.float32)\n"
     ]
    }
   ],
   "source": [
    "# 4 example words\n",
    "word_list = [\"artificial\", \"intelligence\", \"machine\", \"learning\"]\n",
    "word_embeddings = torch.tensor([glove_model[word] for word in word_list], dtype=torch.float32)"
   ]
  },
  {
   "cell_type": "code",
   "execution_count": 4,
   "metadata": {},
   "outputs": [],
   "source": [
    "#Hyperparams\n",
    "\n",
    "embedding_dim= word_embeddings.shape[1]\n",
    "lr= 0.01"
   ]
  },
  {
   "cell_type": "code",
   "execution_count": 5,
   "metadata": {},
   "outputs": [],
   "source": [
    "\n",
    "positional_embeddings= nn.Parameter(torch.zeros_like(word_embeddings, requires_grad=True))"
   ]
  },
  {
   "cell_type": "code",
   "execution_count": 6,
   "metadata": {},
   "outputs": [],
   "source": [
    "y_true = torch.tensor([0.6, 0.9, 1.7, 2.5], dtype=torch.float32) #example values"
   ]
  },
  {
   "cell_type": "code",
   "execution_count": 7,
   "metadata": {},
   "outputs": [
    {
     "data": {
      "text/plain": [
       "tensor([[1., 1., 1., 1., 1., 1., 1., 1., 1., 1., 1., 1., 1., 1., 1., 1., 1., 1.,\n",
       "         1., 1., 1., 1., 1., 1., 1., 1., 1., 1., 1., 1., 1., 1., 1., 1., 1., 1.,\n",
       "         1., 1., 1., 1., 1., 1., 1., 1., 1., 1., 1., 1., 1., 1.]])"
      ]
     },
     "execution_count": 7,
     "metadata": {},
     "output_type": "execute_result"
    }
   ],
   "source": [
    "linear_layer= nn.Linear(embedding_dim, 1, bias=False) #y=xW.T \n",
    "linear_layer.weight.data.fill_(1.0) #weights=1\n"
   ]
  },
  {
   "cell_type": "code",
   "execution_count": 8,
   "metadata": {},
   "outputs": [],
   "source": [
    "optimizer= torch.optim.SGD([positional_embeddings], lr=lr) #optimize positional embeddings"
   ]
  },
  {
   "cell_type": "code",
   "execution_count": 9,
   "metadata": {},
   "outputs": [
    {
     "name": "stdout",
     "output_type": "stream",
     "text": [
      "Epoch 1: Loss = 22.6534\n",
      "Epoch 2: Loss = 12.7426\n",
      "Epoch 3: Loss = 7.1677\n",
      "Epoch 4: Loss = 4.0318\n",
      "Epoch 5: Loss = 2.2679\n",
      "Epoch 6: Loss = 1.2757\n",
      "Epoch 7: Loss = 0.7176\n",
      "Epoch 8: Loss = 0.4036\n",
      "Epoch 9: Loss = 0.2270\n",
      "Epoch 10: Loss = 0.1277\n",
      "Epoch 11: Loss = 0.0718\n",
      "Epoch 12: Loss = 0.0404\n",
      "Epoch 13: Loss = 0.0227\n",
      "Epoch 14: Loss = 0.0128\n",
      "Epoch 15: Loss = 0.0072\n",
      "Epoch 16: Loss = 0.0040\n",
      "Epoch 17: Loss = 0.0023\n",
      "Epoch 18: Loss = 0.0013\n",
      "Epoch 19: Loss = 0.0007\n",
      "Epoch 20: Loss = 0.0004\n"
     ]
    }
   ],
   "source": [
    "# Training\n",
    "\n",
    "for epoch in range(20):\n",
    "    optimizer.zero_grad()\n",
    "    combined_embeddings= word_embeddings+ positional_embeddings\n",
    "    y_pred= linear_layer(combined_embeddings).squeeze()\n",
    "    loss= nn.MSELoss()(y_pred, y_true)\n",
    "\n",
    "    loss.backward() #computes gradients loss wrt pos encodings\n",
    "    optimizer.step() #updates pos encodings\n",
    "\n",
    "    print(f\"Epoch {epoch+1}: Loss = {loss.item():.4f}\")\n",
    "    #print(f\"Updated Positional Embeddings:\\n{positional_embeddings.data}\\n\")"
   ]
  },
  {
   "cell_type": "code",
   "execution_count": 10,
   "metadata": {},
   "outputs": [
    {
     "name": "stdout",
     "output_type": "stream",
     "text": [
      "y_true:  tensor([0.6000, 0.9000, 1.7000, 2.5000])\n",
      "y_pred:  tensor([0.6366, 0.8997, 1.7003, 2.5168], grad_fn=<SqueezeBackward0>)\n"
     ]
    }
   ],
   "source": [
    "print('y_true: ', y_true)\n",
    "print('y_pred: ',y_pred)"
   ]
  },
  {
   "cell_type": "code",
   "execution_count": null,
   "metadata": {},
   "outputs": [
    {
     "name": "stdout",
     "output_type": "stream",
     "text": [
      "Final positional_embeddings tensor([[-0.1725, -0.1725, -0.1725, -0.1725, -0.1725, -0.1725, -0.1725, -0.1725,\n",
      "         -0.1725, -0.1725, -0.1725, -0.1725, -0.1725, -0.1725, -0.1725, -0.1725,\n",
      "         -0.1725, -0.1725, -0.1725, -0.1725, -0.1725, -0.1725, -0.1725, -0.1725,\n",
      "         -0.1725, -0.1725, -0.1725, -0.1725, -0.1725, -0.1725, -0.1725, -0.1725,\n",
      "         -0.1725, -0.1725, -0.1725, -0.1725, -0.1725, -0.1725, -0.1725, -0.1725,\n",
      "         -0.1725, -0.1725, -0.1725, -0.1725, -0.1725, -0.1725, -0.1725, -0.1725,\n",
      "         -0.1725, -0.1725],\n",
      "        [ 0.0012,  0.0012,  0.0012,  0.0012,  0.0012,  0.0012,  0.0012,  0.0012,\n",
      "          0.0012,  0.0012,  0.0012,  0.0012,  0.0012,  0.0012,  0.0012,  0.0012,\n",
      "          0.0012,  0.0012,  0.0012,  0.0012,  0.0012,  0.0012,  0.0012,  0.0012,\n",
      "          0.0012,  0.0012,  0.0012,  0.0012,  0.0012,  0.0012,  0.0012,  0.0012,\n",
      "          0.0012,  0.0012,  0.0012,  0.0012,  0.0012,  0.0012,  0.0012,  0.0012,\n",
      "          0.0012,  0.0012,  0.0012,  0.0012,  0.0012,  0.0012,  0.0012,  0.0012,\n",
      "          0.0012,  0.0012],\n",
      "        [-0.0015, -0.0015, -0.0015, -0.0015, -0.0015, -0.0015, -0.0015, -0.0015,\n",
      "         -0.0015, -0.0015, -0.0015, -0.0015, -0.0015, -0.0015, -0.0015, -0.0015,\n",
      "         -0.0015, -0.0015, -0.0015, -0.0015, -0.0015, -0.0015, -0.0015, -0.0015,\n",
      "         -0.0015, -0.0015, -0.0015, -0.0015, -0.0015, -0.0015, -0.0015, -0.0015,\n",
      "         -0.0015, -0.0015, -0.0015, -0.0015, -0.0015, -0.0015, -0.0015, -0.0015,\n",
      "         -0.0015, -0.0015, -0.0015, -0.0015, -0.0015, -0.0015, -0.0015, -0.0015,\n",
      "         -0.0015, -0.0015],\n",
      "        [-0.0790, -0.0790, -0.0790, -0.0790, -0.0790, -0.0790, -0.0790, -0.0790,\n",
      "         -0.0790, -0.0790, -0.0790, -0.0790, -0.0790, -0.0790, -0.0790, -0.0790,\n",
      "         -0.0790, -0.0790, -0.0790, -0.0790, -0.0790, -0.0790, -0.0790, -0.0790,\n",
      "         -0.0790, -0.0790, -0.0790, -0.0790, -0.0790, -0.0790, -0.0790, -0.0790,\n",
      "         -0.0790, -0.0790, -0.0790, -0.0790, -0.0790, -0.0790, -0.0790, -0.0790,\n",
      "         -0.0790, -0.0790, -0.0790, -0.0790, -0.0790, -0.0790, -0.0790, -0.0790,\n",
      "         -0.0790, -0.0790]])\n"
     ]
    }
   ],
   "source": [
    "print('Final positional_embeddings', positional_embeddings.data) "
   ]
  }
 ],
 "metadata": {
  "kernelspec": {
   "display_name": "Python 3",
   "language": "python",
   "name": "python3"
  },
  "language_info": {
   "codemirror_mode": {
    "name": "ipython",
    "version": 3
   },
   "file_extension": ".py",
   "mimetype": "text/x-python",
   "name": "python",
   "nbconvert_exporter": "python",
   "pygments_lexer": "ipython3",
   "version": "3.10.5"
  }
 },
 "nbformat": 4,
 "nbformat_minor": 2
}
