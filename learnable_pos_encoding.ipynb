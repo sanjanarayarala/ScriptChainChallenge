{
 "cells": [
  {
   "cell_type": "code",
   "execution_count": 1,
   "metadata": {},
   "outputs": [],
   "source": [
    "import torch\n",
    "import torch.nn as nn"
   ]
  },
  {
   "cell_type": "code",
   "execution_count": null,
   "metadata": {},
   "outputs": [],
   "source": [
    "#Hyperparams\n",
    "\n",
    "embedding_dim= 3 \n",
    "lr= 0.1"
   ]
  },
  {
   "cell_type": "code",
   "execution_count": 3,
   "metadata": {},
   "outputs": [],
   "source": [
    "word_embeddings= torch.tensor([\n",
    "    [0.2, 0.1, 0.3], #word1\n",
    "    [0.5, 0.4, 0.6], #w2\n",
    "    [0.9, 0.7, 0.8], #w3\n",
    "    [1.2, 1.1, 1.0] #w4\n",
    "], dtype= torch.float32)\n",
    "\n",
    "positional_embeddings= nn.Parameter(torch.tensor([\n",
    "    [0.1, 0.2, 0.3], #pos0\n",
    "    [0.4, 0.5, 0.6], #pos1\n",
    "    [0.7, 0.8, 0.9], #pos2\n",
    "    [1.0, 1.1, 1.2] #pos3\n",
    "\n",
    "], dtype=torch.float32, requires_grad=True))"
   ]
  },
  {
   "cell_type": "code",
   "execution_count": 4,
   "metadata": {},
   "outputs": [],
   "source": [
    "y_true = torch.tensor([0.6, 0.9, 1.7, 2.5], dtype=torch.float32)"
   ]
  },
  {
   "cell_type": "code",
   "execution_count": 5,
   "metadata": {},
   "outputs": [
    {
     "data": {
      "text/plain": [
       "tensor([[1., 1., 1.]])"
      ]
     },
     "execution_count": 5,
     "metadata": {},
     "output_type": "execute_result"
    }
   ],
   "source": [
    "linear_layer= nn.Linear(embedding_dim, 1, bias=False) #y=xW.T \n",
    "linear_layer.weight.data.fill_(1.0) #weights=1\n"
   ]
  },
  {
   "cell_type": "code",
   "execution_count": 6,
   "metadata": {},
   "outputs": [],
   "source": [
    "optimizer= torch.optim.SGD([positional_embeddings], lr=lr) #optimize positional embeddings"
   ]
  },
  {
   "cell_type": "code",
   "execution_count": 8,
   "metadata": {},
   "outputs": [
    {
     "name": "stdout",
     "output_type": "stream",
     "text": [
      "Epoch 1: Loss = 1.5351\n",
      "Updated Positional Embeddings:\n",
      "tensor([[-0.0246,  0.0754,  0.1754],\n",
      "        [-0.0360,  0.0640,  0.1640],\n",
      "        [ 0.0564,  0.1564,  0.2564],\n",
      "        [ 0.1488,  0.2488,  0.3488]])\n",
      "\n",
      "Epoch 2: Loss = 1.1091\n",
      "Updated Positional Embeddings:\n",
      "tensor([[-0.0359,  0.0641,  0.1641],\n",
      "        [-0.0756,  0.0244,  0.1244],\n",
      "        [-0.0021,  0.0979,  0.1979],\n",
      "        [ 0.0715,  0.1715,  0.2715]])\n",
      "\n",
      "Epoch 3: Loss = 0.8013\n",
      "Updated Positional Embeddings:\n",
      "tensor([[-0.0455,  0.0545,  0.1545],\n",
      "        [-0.1093, -0.0093,  0.0907],\n",
      "        [-0.0518,  0.0482,  0.1482],\n",
      "        [ 0.0057,  0.1057,  0.2057]])\n",
      "\n",
      "Epoch 4: Loss = 0.5790\n",
      "Updated Positional Embeddings:\n",
      "tensor([[-0.0537,  0.0463,  0.1463],\n",
      "        [-0.1379, -0.0379,  0.0621],\n",
      "        [-0.0940,  0.0060,  0.1060],\n",
      "        [-0.0501,  0.0499,  0.1499]])\n",
      "\n",
      "Epoch 5: Loss = 0.4183\n",
      "Updated Positional Embeddings:\n",
      "tensor([[-0.0606,  0.0394,  0.1394],\n",
      "        [-0.1622, -0.0622,  0.0378],\n",
      "        [-0.1299, -0.0299,  0.0701],\n",
      "        [-0.0976,  0.0024,  0.1024]])\n",
      "\n",
      "Epoch 6: Loss = 0.3022\n",
      "Updated Positional Embeddings:\n",
      "tensor([[-0.0665,  0.0335,  0.1335],\n",
      "        [-0.1829, -0.0829,  0.0171],\n",
      "        [-0.1604, -0.0604,  0.0396],\n",
      "        [-0.1380, -0.0380,  0.0620]])\n",
      "\n",
      "Epoch 7: Loss = 0.2184\n",
      "Updated Positional Embeddings:\n",
      "tensor([[-0.0716,  0.0284,  0.1284],\n",
      "        [-0.2004, -0.1004, -0.0004],\n",
      "        [-0.1864, -0.0864,  0.0136],\n",
      "        [-0.1723, -0.0723,  0.0277]])\n",
      "\n",
      "Epoch 8: Loss = 0.1578\n",
      "Updated Positional Embeddings:\n",
      "tensor([[-0.0758,  0.0242,  0.1242],\n",
      "        [-0.2154, -0.1154, -0.0154],\n",
      "        [-0.2084, -0.1084, -0.0084],\n",
      "        [-0.2014, -0.1014, -0.0014]])\n",
      "\n",
      "Epoch 9: Loss = 0.1140\n",
      "Updated Positional Embeddings:\n",
      "tensor([[-0.0794,  0.0206,  0.1206],\n",
      "        [-0.2281, -0.1281, -0.0281],\n",
      "        [-0.2271, -0.1271, -0.0271],\n",
      "        [-0.2262, -0.1262, -0.0262]])\n",
      "\n",
      "Epoch 10: Loss = 0.0824\n",
      "Updated Positional Embeddings:\n",
      "tensor([[-0.0825,  0.0175,  0.1175],\n",
      "        [-0.2389, -0.1389, -0.0389],\n",
      "        [-0.2431, -0.1431, -0.0431],\n",
      "        [-0.2473, -0.1473, -0.0473]])\n",
      "\n",
      "Epoch 11: Loss = 0.0595\n",
      "Updated Positional Embeddings:\n",
      "tensor([[-0.0851,  0.0149,  0.1149],\n",
      "        [-0.2480, -0.1480, -0.0480],\n",
      "        [-0.2566, -0.1566, -0.0566],\n",
      "        [-0.2652, -0.1652, -0.0652]])\n",
      "\n",
      "Epoch 12: Loss = 0.0430\n",
      "Updated Positional Embeddings:\n",
      "tensor([[-0.0874,  0.0126,  0.1126],\n",
      "        [-0.2558, -0.1558, -0.0558],\n",
      "        [-0.2681, -0.1681, -0.0681],\n",
      "        [-0.2804, -0.1804, -0.0804]])\n",
      "\n",
      "Epoch 13: Loss = 0.0311\n",
      "Updated Positional Embeddings:\n",
      "tensor([[-0.0893,  0.0107,  0.1107],\n",
      "        [-0.2624, -0.1624, -0.0624],\n",
      "        [-0.2779, -0.1779, -0.0779],\n",
      "        [-0.2933, -0.1933, -0.0933]])\n",
      "\n",
      "Epoch 14: Loss = 0.0224\n",
      "Updated Positional Embeddings:\n",
      "tensor([[-0.0909,  0.0091,  0.1091],\n",
      "        [-0.2681, -0.1681, -0.0681],\n",
      "        [-0.2862, -0.1862, -0.0862],\n",
      "        [-0.3043, -0.2043, -0.1043]])\n",
      "\n",
      "Epoch 15: Loss = 0.0162\n",
      "Updated Positional Embeddings:\n",
      "tensor([[-0.0922,  0.0078,  0.1078],\n",
      "        [-0.2729, -0.1729, -0.0729],\n",
      "        [-0.2933, -0.1933, -0.0933],\n",
      "        [-0.3137, -0.2137, -0.1137]])\n",
      "\n",
      "Epoch 16: Loss = 0.0117\n",
      "Updated Positional Embeddings:\n",
      "tensor([[-0.0934,  0.0066,  0.1066],\n",
      "        [-0.2769, -0.1769, -0.0769],\n",
      "        [-0.2993, -0.1993, -0.0993],\n",
      "        [-0.3216, -0.2216, -0.1216]])\n",
      "\n",
      "Epoch 17: Loss = 0.0085\n",
      "Updated Positional Embeddings:\n",
      "tensor([[-0.0944,  0.0056,  0.1056],\n",
      "        [-0.2804, -0.1804, -0.0804],\n",
      "        [-0.3044, -0.2044, -0.1044],\n",
      "        [-0.3284, -0.2284, -0.1284]])\n",
      "\n",
      "Epoch 18: Loss = 0.0061\n",
      "Updated Positional Embeddings:\n",
      "tensor([[-0.0952,  0.0048,  0.1048],\n",
      "        [-0.2833, -0.1833, -0.0833],\n",
      "        [-0.3087, -0.2087, -0.1087],\n",
      "        [-0.3341, -0.2341, -0.1341]])\n",
      "\n",
      "Epoch 19: Loss = 0.0044\n",
      "Updated Positional Embeddings:\n",
      "tensor([[-0.0960,  0.0040,  0.1040],\n",
      "        [-0.2858, -0.1858, -0.0858],\n",
      "        [-0.3124, -0.2124, -0.1124],\n",
      "        [-0.3390, -0.2390, -0.1390]])\n",
      "\n",
      "Epoch 20: Loss = 0.0032\n",
      "Updated Positional Embeddings:\n",
      "tensor([[-0.0966,  0.0034,  0.1034],\n",
      "        [-0.2880, -0.1880, -0.0880],\n",
      "        [-0.3156, -0.2156, -0.1156],\n",
      "        [-0.3432, -0.2432, -0.1432]])\n",
      "\n"
     ]
    }
   ],
   "source": [
    "# Training\n",
    "\n",
    "for epoch in range(20):\n",
    "    optimizer.zero_grad()\n",
    "    combined_embeddings= word_embeddings+ positional_embeddings\n",
    "    y_pred= linear_layer(combined_embeddings).squeeze()\n",
    "    loss= nn.MSELoss()(y_pred, y_true)\n",
    "\n",
    "    loss.backward() #computes gradients loss wrt pos encodings\n",
    "    optimizer.step() #updates pos encodings\n",
    "\n",
    "    print(f\"Epoch {epoch+1}: Loss = {loss.item():.4f}\")\n",
    "    print(f\"Updated Positional Embeddings:\\n{positional_embeddings.data}\\n\")"
   ]
  },
  {
   "cell_type": "code",
   "execution_count": 9,
   "metadata": {},
   "outputs": [
    {
     "name": "stdout",
     "output_type": "stream",
     "text": [
      "y_true:  tensor([0.6000, 0.9000, 1.7000, 2.5000])\n",
      "y_pred:  tensor([0.6121, 0.9425, 1.7627, 2.5830], grad_fn=<SqueezeBackward0>)\n"
     ]
    }
   ],
   "source": [
    "print('y_true: ', y_true)\n",
    "print('y_pred: ',y_pred)"
   ]
  }
 ],
 "metadata": {
  "kernelspec": {
   "display_name": "Python 3",
   "language": "python",
   "name": "python3"
  },
  "language_info": {
   "codemirror_mode": {
    "name": "ipython",
    "version": 3
   },
   "file_extension": ".py",
   "mimetype": "text/x-python",
   "name": "python",
   "nbconvert_exporter": "python",
   "pygments_lexer": "ipython3",
   "version": "3.10.5"
  }
 },
 "nbformat": 4,
 "nbformat_minor": 2
}
